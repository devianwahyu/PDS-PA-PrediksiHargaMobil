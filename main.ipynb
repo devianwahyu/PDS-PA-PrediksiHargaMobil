{
  "nbformat": 4,
  "nbformat_minor": 0,
  "metadata": {
    "colab": {
      "name": "Devian Wahyu Setiyawan_185150400111005_Projek Akhir.ipynb",
      "provenance": [],
      "collapsed_sections": [],
      "authorship_tag": "ABX9TyO+vIxej1BlzQboWgaU6irg",
      "include_colab_link": true
    },
    "kernelspec": {
      "name": "python3",
      "display_name": "Python 3"
    }
  },
  "cells": [
    {
      "cell_type": "markdown",
      "metadata": {
        "id": "view-in-github",
        "colab_type": "text"
      },
      "source": [
        "<a href=\"https://colab.research.google.com/github/devianwahyu/PDS-PA-PrediksiHargaMobil/blob/main/main.ipynb\" target=\"_parent\"><img src=\"https://colab.research.google.com/assets/colab-badge.svg\" alt=\"Open In Colab\"/></a>"
      ]
    },
    {
      "cell_type": "markdown",
      "metadata": {
        "id": "Q4zqHYEQjhJA"
      },
      "source": [
        "# Deskripsi Tujuan Bisnis\n",
        "\n",
        "Tujuan dari projek ini adalah untuk memprediksi harga Mobil berdasar:\n",
        "\n",
        "* Tahun produksi\n",
        "* Kilometers driven\n",
        "* Tipe bahan bakar\n",
        "* Transmisi\n",
        "* Tipe owner\n",
        "* Mileage\n",
        "* Mesin\n",
        "\n"
      ]
    },
    {
      "cell_type": "markdown",
      "metadata": {
        "id": "cyGMiYiBjonT"
      },
      "source": [
        "#Analisa Pendekatan\n",
        "Pendekatan yang dipakai dalam projek ini adalah pendekatan regresi, lebih tepatnya multiple linear regression. Metode ini cocok digunakan untuk memprediksi suatu nilai berdasarkan variabel terkait."
      ]
    },
    {
      "cell_type": "markdown",
      "metadata": {
        "id": "63BaJygCj4ic"
      },
      "source": [
        "#Pengumpulan Data\n",
        "\n",
        "Data diperoleh dari Kaggle. Berikut adalah link-nya: https://www.kaggle.com/avikasliwal/used-cars-price-prediction"
      ]
    },
    {
      "cell_type": "markdown",
      "metadata": {
        "id": "6J6jwfrij8rd"
      },
      "source": [
        "#Pemahaman Data"
      ]
    },
    {
      "cell_type": "markdown",
      "metadata": {
        "id": "ni2PlymGFSfM"
      },
      "source": [
        "Melakukan impor library yang akan digunakan."
      ]
    },
    {
      "cell_type": "code",
      "metadata": {
        "id": "272Sv2BmvwOv"
      },
      "source": [
        "import warnings\n",
        "warnings.filterwarnings(\"ignore\")\n",
        "import numpy as np\n",
        "import pandas as pd\n",
        "import matplotlib.pyplot as plt\n",
        "import seaborn as sns\n",
        "from sklearn.model_selection import train_test_split\n",
        "import collections\n",
        "from sklearn.metrics import r2_score\n",
        "import re\n",
        "from sklearn.linear_model import LinearRegression\n",
        "from sklearn.tree import DecisionTreeRegressor\n",
        "from sklearn.ensemble import RandomForestRegressor \n",
        "%matplotlib inline"
      ],
      "execution_count": 45,
      "outputs": []
    },
    {
      "cell_type": "markdown",
      "metadata": {
        "id": "isD9fJNaFXyq"
      },
      "source": [
        "Melakukan load data yang akan dipakai."
      ]
    },
    {
      "cell_type": "code",
      "metadata": {
        "id": "3t2aR8xNwxWP"
      },
      "source": [
        "df_train = pd.read_csv('train-data.csv')"
      ],
      "execution_count": 46,
      "outputs": []
    },
    {
      "cell_type": "markdown",
      "metadata": {
        "id": "X1nV0KMVFcvS"
      },
      "source": [
        "Melakukan cek data apakah sudah ter-load dengan benar, dengan menampilkan 5 data awal dari dataset."
      ]
    },
    {
      "cell_type": "code",
      "metadata": {
        "colab": {
          "base_uri": "https://localhost:8080/",
          "height": 345
        },
        "id": "15Bb-Ri9OY2_",
        "outputId": "0d0af56d-68f3-490b-d705-6dcf2ac8362f"
      },
      "source": [
        "df_train.head(5)"
      ],
      "execution_count": 47,
      "outputs": [
        {
          "output_type": "execute_result",
          "data": {
            "text/html": [
              "<div>\n",
              "<style scoped>\n",
              "    .dataframe tbody tr th:only-of-type {\n",
              "        vertical-align: middle;\n",
              "    }\n",
              "\n",
              "    .dataframe tbody tr th {\n",
              "        vertical-align: top;\n",
              "    }\n",
              "\n",
              "    .dataframe thead th {\n",
              "        text-align: right;\n",
              "    }\n",
              "</style>\n",
              "<table border=\"1\" class=\"dataframe\">\n",
              "  <thead>\n",
              "    <tr style=\"text-align: right;\">\n",
              "      <th></th>\n",
              "      <th>Unnamed: 0</th>\n",
              "      <th>Name</th>\n",
              "      <th>Location</th>\n",
              "      <th>Year</th>\n",
              "      <th>Kilometers_Driven</th>\n",
              "      <th>Fuel_Type</th>\n",
              "      <th>Transmission</th>\n",
              "      <th>Owner_Type</th>\n",
              "      <th>Mileage</th>\n",
              "      <th>Engine</th>\n",
              "      <th>Power</th>\n",
              "      <th>Seats</th>\n",
              "      <th>New_Price</th>\n",
              "      <th>Price</th>\n",
              "    </tr>\n",
              "  </thead>\n",
              "  <tbody>\n",
              "    <tr>\n",
              "      <th>0</th>\n",
              "      <td>0</td>\n",
              "      <td>Maruti Wagon R LXI CNG</td>\n",
              "      <td>Mumbai</td>\n",
              "      <td>2010</td>\n",
              "      <td>72000</td>\n",
              "      <td>CNG</td>\n",
              "      <td>Manual</td>\n",
              "      <td>First</td>\n",
              "      <td>26.6 km/kg</td>\n",
              "      <td>998 CC</td>\n",
              "      <td>58.16 bhp</td>\n",
              "      <td>5.0</td>\n",
              "      <td>NaN</td>\n",
              "      <td>1.75</td>\n",
              "    </tr>\n",
              "    <tr>\n",
              "      <th>1</th>\n",
              "      <td>1</td>\n",
              "      <td>Hyundai Creta 1.6 CRDi SX Option</td>\n",
              "      <td>Pune</td>\n",
              "      <td>2015</td>\n",
              "      <td>41000</td>\n",
              "      <td>Diesel</td>\n",
              "      <td>Manual</td>\n",
              "      <td>First</td>\n",
              "      <td>19.67 kmpl</td>\n",
              "      <td>1582 CC</td>\n",
              "      <td>126.2 bhp</td>\n",
              "      <td>5.0</td>\n",
              "      <td>NaN</td>\n",
              "      <td>12.50</td>\n",
              "    </tr>\n",
              "    <tr>\n",
              "      <th>2</th>\n",
              "      <td>2</td>\n",
              "      <td>Honda Jazz V</td>\n",
              "      <td>Chennai</td>\n",
              "      <td>2011</td>\n",
              "      <td>46000</td>\n",
              "      <td>Petrol</td>\n",
              "      <td>Manual</td>\n",
              "      <td>First</td>\n",
              "      <td>18.2 kmpl</td>\n",
              "      <td>1199 CC</td>\n",
              "      <td>88.7 bhp</td>\n",
              "      <td>5.0</td>\n",
              "      <td>8.61 Lakh</td>\n",
              "      <td>4.50</td>\n",
              "    </tr>\n",
              "    <tr>\n",
              "      <th>3</th>\n",
              "      <td>3</td>\n",
              "      <td>Maruti Ertiga VDI</td>\n",
              "      <td>Chennai</td>\n",
              "      <td>2012</td>\n",
              "      <td>87000</td>\n",
              "      <td>Diesel</td>\n",
              "      <td>Manual</td>\n",
              "      <td>First</td>\n",
              "      <td>20.77 kmpl</td>\n",
              "      <td>1248 CC</td>\n",
              "      <td>88.76 bhp</td>\n",
              "      <td>7.0</td>\n",
              "      <td>NaN</td>\n",
              "      <td>6.00</td>\n",
              "    </tr>\n",
              "    <tr>\n",
              "      <th>4</th>\n",
              "      <td>4</td>\n",
              "      <td>Audi A4 New 2.0 TDI Multitronic</td>\n",
              "      <td>Coimbatore</td>\n",
              "      <td>2013</td>\n",
              "      <td>40670</td>\n",
              "      <td>Diesel</td>\n",
              "      <td>Automatic</td>\n",
              "      <td>Second</td>\n",
              "      <td>15.2 kmpl</td>\n",
              "      <td>1968 CC</td>\n",
              "      <td>140.8 bhp</td>\n",
              "      <td>5.0</td>\n",
              "      <td>NaN</td>\n",
              "      <td>17.74</td>\n",
              "    </tr>\n",
              "  </tbody>\n",
              "</table>\n",
              "</div>"
            ],
            "text/plain": [
              "   Unnamed: 0                              Name  ...  New_Price  Price\n",
              "0           0            Maruti Wagon R LXI CNG  ...        NaN   1.75\n",
              "1           1  Hyundai Creta 1.6 CRDi SX Option  ...        NaN  12.50\n",
              "2           2                      Honda Jazz V  ...  8.61 Lakh   4.50\n",
              "3           3                 Maruti Ertiga VDI  ...        NaN   6.00\n",
              "4           4   Audi A4 New 2.0 TDI Multitronic  ...        NaN  17.74\n",
              "\n",
              "[5 rows x 14 columns]"
            ]
          },
          "metadata": {
            "tags": []
          },
          "execution_count": 47
        }
      ]
    },
    {
      "cell_type": "markdown",
      "metadata": {
        "id": "igIA1yMzFl5L"
      },
      "source": [
        "Menampilkan info berkaitan dengan dataset."
      ]
    },
    {
      "cell_type": "code",
      "metadata": {
        "colab": {
          "base_uri": "https://localhost:8080/"
        },
        "id": "ftmWpMA3JUK3",
        "outputId": "20278478-1f12-458f-f94c-0ffe139c6797"
      },
      "source": [
        "df_train.info()"
      ],
      "execution_count": 48,
      "outputs": [
        {
          "output_type": "stream",
          "text": [
            "<class 'pandas.core.frame.DataFrame'>\n",
            "RangeIndex: 6019 entries, 0 to 6018\n",
            "Data columns (total 14 columns):\n",
            " #   Column             Non-Null Count  Dtype  \n",
            "---  ------             --------------  -----  \n",
            " 0   Unnamed: 0         6019 non-null   int64  \n",
            " 1   Name               6019 non-null   object \n",
            " 2   Location           6019 non-null   object \n",
            " 3   Year               6019 non-null   int64  \n",
            " 4   Kilometers_Driven  6019 non-null   int64  \n",
            " 5   Fuel_Type          6019 non-null   object \n",
            " 6   Transmission       6019 non-null   object \n",
            " 7   Owner_Type         6019 non-null   object \n",
            " 8   Mileage            6017 non-null   object \n",
            " 9   Engine             5983 non-null   object \n",
            " 10  Power              5983 non-null   object \n",
            " 11  Seats              5977 non-null   float64\n",
            " 12  New_Price          824 non-null    object \n",
            " 13  Price              6019 non-null   float64\n",
            "dtypes: float64(2), int64(3), object(9)\n",
            "memory usage: 658.5+ KB\n"
          ],
          "name": "stdout"
        }
      ]
    },
    {
      "cell_type": "markdown",
      "metadata": {
        "id": "8GsKole-Fxm-"
      },
      "source": [
        "Menampilkan deskripsi dari dataset."
      ]
    },
    {
      "cell_type": "code",
      "metadata": {
        "colab": {
          "base_uri": "https://localhost:8080/",
          "height": 300
        },
        "id": "-jjuEXooJW6y",
        "outputId": "dc9adc72-e305-4c61-9bf9-f3f8f4127531"
      },
      "source": [
        "df_train.describe()"
      ],
      "execution_count": 49,
      "outputs": [
        {
          "output_type": "execute_result",
          "data": {
            "text/html": [
              "<div>\n",
              "<style scoped>\n",
              "    .dataframe tbody tr th:only-of-type {\n",
              "        vertical-align: middle;\n",
              "    }\n",
              "\n",
              "    .dataframe tbody tr th {\n",
              "        vertical-align: top;\n",
              "    }\n",
              "\n",
              "    .dataframe thead th {\n",
              "        text-align: right;\n",
              "    }\n",
              "</style>\n",
              "<table border=\"1\" class=\"dataframe\">\n",
              "  <thead>\n",
              "    <tr style=\"text-align: right;\">\n",
              "      <th></th>\n",
              "      <th>Unnamed: 0</th>\n",
              "      <th>Year</th>\n",
              "      <th>Kilometers_Driven</th>\n",
              "      <th>Seats</th>\n",
              "      <th>Price</th>\n",
              "    </tr>\n",
              "  </thead>\n",
              "  <tbody>\n",
              "    <tr>\n",
              "      <th>count</th>\n",
              "      <td>6019.000000</td>\n",
              "      <td>6019.000000</td>\n",
              "      <td>6.019000e+03</td>\n",
              "      <td>5977.000000</td>\n",
              "      <td>6019.000000</td>\n",
              "    </tr>\n",
              "    <tr>\n",
              "      <th>mean</th>\n",
              "      <td>3009.000000</td>\n",
              "      <td>2013.358199</td>\n",
              "      <td>5.873838e+04</td>\n",
              "      <td>5.278735</td>\n",
              "      <td>9.479468</td>\n",
              "    </tr>\n",
              "    <tr>\n",
              "      <th>std</th>\n",
              "      <td>1737.679967</td>\n",
              "      <td>3.269742</td>\n",
              "      <td>9.126884e+04</td>\n",
              "      <td>0.808840</td>\n",
              "      <td>11.187917</td>\n",
              "    </tr>\n",
              "    <tr>\n",
              "      <th>min</th>\n",
              "      <td>0.000000</td>\n",
              "      <td>1998.000000</td>\n",
              "      <td>1.710000e+02</td>\n",
              "      <td>0.000000</td>\n",
              "      <td>0.440000</td>\n",
              "    </tr>\n",
              "    <tr>\n",
              "      <th>25%</th>\n",
              "      <td>1504.500000</td>\n",
              "      <td>2011.000000</td>\n",
              "      <td>3.400000e+04</td>\n",
              "      <td>5.000000</td>\n",
              "      <td>3.500000</td>\n",
              "    </tr>\n",
              "    <tr>\n",
              "      <th>50%</th>\n",
              "      <td>3009.000000</td>\n",
              "      <td>2014.000000</td>\n",
              "      <td>5.300000e+04</td>\n",
              "      <td>5.000000</td>\n",
              "      <td>5.640000</td>\n",
              "    </tr>\n",
              "    <tr>\n",
              "      <th>75%</th>\n",
              "      <td>4513.500000</td>\n",
              "      <td>2016.000000</td>\n",
              "      <td>7.300000e+04</td>\n",
              "      <td>5.000000</td>\n",
              "      <td>9.950000</td>\n",
              "    </tr>\n",
              "    <tr>\n",
              "      <th>max</th>\n",
              "      <td>6018.000000</td>\n",
              "      <td>2019.000000</td>\n",
              "      <td>6.500000e+06</td>\n",
              "      <td>10.000000</td>\n",
              "      <td>160.000000</td>\n",
              "    </tr>\n",
              "  </tbody>\n",
              "</table>\n",
              "</div>"
            ],
            "text/plain": [
              "        Unnamed: 0         Year  Kilometers_Driven        Seats        Price\n",
              "count  6019.000000  6019.000000       6.019000e+03  5977.000000  6019.000000\n",
              "mean   3009.000000  2013.358199       5.873838e+04     5.278735     9.479468\n",
              "std    1737.679967     3.269742       9.126884e+04     0.808840    11.187917\n",
              "min       0.000000  1998.000000       1.710000e+02     0.000000     0.440000\n",
              "25%    1504.500000  2011.000000       3.400000e+04     5.000000     3.500000\n",
              "50%    3009.000000  2014.000000       5.300000e+04     5.000000     5.640000\n",
              "75%    4513.500000  2016.000000       7.300000e+04     5.000000     9.950000\n",
              "max    6018.000000  2019.000000       6.500000e+06    10.000000   160.000000"
            ]
          },
          "metadata": {
            "tags": []
          },
          "execution_count": 49
        }
      ]
    },
    {
      "cell_type": "markdown",
      "metadata": {
        "id": "HW-oUza7F35q"
      },
      "source": [
        "Melihat dimansi dari dataset."
      ]
    },
    {
      "cell_type": "code",
      "metadata": {
        "colab": {
          "base_uri": "https://localhost:8080/"
        },
        "id": "hyqa2jbLJbYQ",
        "outputId": "07c9718f-d198-4b3c-e398-7f58bcdab90b"
      },
      "source": [
        "df_train.shape"
      ],
      "execution_count": 50,
      "outputs": [
        {
          "output_type": "execute_result",
          "data": {
            "text/plain": [
              "(6019, 14)"
            ]
          },
          "metadata": {
            "tags": []
          },
          "execution_count": 50
        }
      ]
    },
    {
      "cell_type": "markdown",
      "metadata": {
        "id": "Vnwly-HjKB6F"
      },
      "source": [
        "#Eksplorasi Data"
      ]
    },
    {
      "cell_type": "markdown",
      "metadata": {
        "id": "1BlMhiYhKNeV"
      },
      "source": [
        "### Data Preprocessing"
      ]
    },
    {
      "cell_type": "markdown",
      "metadata": {
        "id": "PX5sJhpSF8-B"
      },
      "source": [
        "Melakukan cek terhadap kolom yang memiliki data null."
      ]
    },
    {
      "cell_type": "code",
      "metadata": {
        "colab": {
          "base_uri": "https://localhost:8080/"
        },
        "id": "YlqI6tTgKIAS",
        "outputId": "900df44d-80c7-49b1-ec8d-7776456caa7a"
      },
      "source": [
        "df_train.isna().sum()"
      ],
      "execution_count": 51,
      "outputs": [
        {
          "output_type": "execute_result",
          "data": {
            "text/plain": [
              "Unnamed: 0              0\n",
              "Name                    0\n",
              "Location                0\n",
              "Year                    0\n",
              "Kilometers_Driven       0\n",
              "Fuel_Type               0\n",
              "Transmission            0\n",
              "Owner_Type              0\n",
              "Mileage                 2\n",
              "Engine                 36\n",
              "Power                  36\n",
              "Seats                  42\n",
              "New_Price            5195\n",
              "Price                   0\n",
              "dtype: int64"
            ]
          },
          "metadata": {
            "tags": []
          },
          "execution_count": 51
        }
      ]
    },
    {
      "cell_type": "markdown",
      "metadata": {
        "id": "QNxysOwtGEAp"
      },
      "source": [
        "Menampilkan kolom dengan nilai null dalam bentuk persentase."
      ]
    },
    {
      "cell_type": "code",
      "metadata": {
        "colab": {
          "base_uri": "https://localhost:8080/"
        },
        "id": "X4otH579KtH8",
        "outputId": "c788133b-d006-4456-93ec-21fd28f23c39"
      },
      "source": [
        "(df_train.isnull().sum() / len(df_train)) * 100"
      ],
      "execution_count": 52,
      "outputs": [
        {
          "output_type": "execute_result",
          "data": {
            "text/plain": [
              "Unnamed: 0            0.000000\n",
              "Name                  0.000000\n",
              "Location              0.000000\n",
              "Year                  0.000000\n",
              "Kilometers_Driven     0.000000\n",
              "Fuel_Type             0.000000\n",
              "Transmission          0.000000\n",
              "Owner_Type            0.000000\n",
              "Mileage               0.033228\n",
              "Engine                0.598106\n",
              "Power                 0.598106\n",
              "Seats                 0.697790\n",
              "New_Price            86.310018\n",
              "Price                 0.000000\n",
              "dtype: float64"
            ]
          },
          "metadata": {
            "tags": []
          },
          "execution_count": 52
        }
      ]
    },
    {
      "cell_type": "markdown",
      "metadata": {
        "id": "K4mrK6bIGJRi"
      },
      "source": [
        "Mengubah nama kolom Unnamed dengan nama id."
      ]
    },
    {
      "cell_type": "code",
      "metadata": {
        "colab": {
          "base_uri": "https://localhost:8080/"
        },
        "id": "n5p0xXMAK0hC",
        "outputId": "9594721b-fc6f-4693-df2e-4cee6bf74660"
      },
      "source": [
        "df_train = df_train.rename(columns = {'Unnamed: 0': 'id'})\n",
        "df_train.isna().sum()"
      ],
      "execution_count": 53,
      "outputs": [
        {
          "output_type": "execute_result",
          "data": {
            "text/plain": [
              "id                      0\n",
              "Name                    0\n",
              "Location                0\n",
              "Year                    0\n",
              "Kilometers_Driven       0\n",
              "Fuel_Type               0\n",
              "Transmission            0\n",
              "Owner_Type              0\n",
              "Mileage                 2\n",
              "Engine                 36\n",
              "Power                  36\n",
              "Seats                  42\n",
              "New_Price            5195\n",
              "Price                   0\n",
              "dtype: int64"
            ]
          },
          "metadata": {
            "tags": []
          },
          "execution_count": 53
        }
      ]
    },
    {
      "cell_type": "markdown",
      "metadata": {
        "id": "GnAN-vohGP7A"
      },
      "source": [
        "Menampilkan kolom berdasar Seats dan id yang bernilai uniq."
      ]
    },
    {
      "cell_type": "code",
      "metadata": {
        "colab": {
          "base_uri": "https://localhost:8080/"
        },
        "id": "uWhFb84GLHT5",
        "outputId": "7f7754d1-6880-4ad6-fcaa-4387f99b5d27"
      },
      "source": [
        "df_train.groupby('Seats')['id'].nunique()"
      ],
      "execution_count": 54,
      "outputs": [
        {
          "output_type": "execute_result",
          "data": {
            "text/plain": [
              "Seats\n",
              "0.0        1\n",
              "2.0       16\n",
              "4.0       99\n",
              "5.0     5014\n",
              "6.0       31\n",
              "7.0      674\n",
              "8.0      134\n",
              "9.0        3\n",
              "10.0       5\n",
              "Name: id, dtype: int64"
            ]
          },
          "metadata": {
            "tags": []
          },
          "execution_count": 54
        }
      ]
    },
    {
      "cell_type": "markdown",
      "metadata": {
        "id": "1BfI--tgGbV9"
      },
      "source": [
        "Melihat nilai modus dari kolom Seats."
      ]
    },
    {
      "cell_type": "code",
      "metadata": {
        "colab": {
          "base_uri": "https://localhost:8080/"
        },
        "id": "eYBR8IvUMFNd",
        "outputId": "1dc10f33-74ed-4ee2-dcfc-756d7c5c093d"
      },
      "source": [
        "df_train['Seats'].mode()"
      ],
      "execution_count": 55,
      "outputs": [
        {
          "output_type": "execute_result",
          "data": {
            "text/plain": [
              "0    5.0\n",
              "dtype: float64"
            ]
          },
          "metadata": {
            "tags": []
          },
          "execution_count": 55
        }
      ]
    },
    {
      "cell_type": "markdown",
      "metadata": {
        "id": "CECsbcp1GgZS"
      },
      "source": [
        "Mengubah null value dari kolom dataset dengan nilai modus."
      ]
    },
    {
      "cell_type": "code",
      "metadata": {
        "colab": {
          "base_uri": "https://localhost:8080/"
        },
        "id": "lC4ivOzBMJlN",
        "outputId": "c568d153-2cd4-4f5e-f60b-d3e4f78e05db"
      },
      "source": [
        "df_train[\"Seats\"].fillna(value = 5.0, inplace=True)\n",
        "df_train.Seats[df_train.Seats == 0.0] = 5.0\n",
        "df_train.isna().sum()"
      ],
      "execution_count": 56,
      "outputs": [
        {
          "output_type": "execute_result",
          "data": {
            "text/plain": [
              "id                      0\n",
              "Name                    0\n",
              "Location                0\n",
              "Year                    0\n",
              "Kilometers_Driven       0\n",
              "Fuel_Type               0\n",
              "Transmission            0\n",
              "Owner_Type              0\n",
              "Mileage                 2\n",
              "Engine                 36\n",
              "Power                  36\n",
              "Seats                   0\n",
              "New_Price            5195\n",
              "Price                   0\n",
              "dtype: int64"
            ]
          },
          "metadata": {
            "tags": []
          },
          "execution_count": 56
        }
      ]
    },
    {
      "cell_type": "markdown",
      "metadata": {
        "id": "PTZMs3d8HQrx"
      },
      "source": [
        "Membersihkan value dari atribut yang tidak dibutuhkan, kemudian menampilkan nilai modus dari kolom Mileage."
      ]
    },
    {
      "cell_type": "code",
      "metadata": {
        "colab": {
          "base_uri": "https://localhost:8080/"
        },
        "id": "RgUW6BYhMlXZ",
        "outputId": "6c0e4647-4869-43fa-bfc9-23d3f352ab97"
      },
      "source": [
        "df_train.Mileage[df_train.Mileage == '0.0 kmpl'] = np.nan\n",
        "df_train['Mileage'] = df_train['Mileage'].apply(lambda x: re.sub(r'(\\d+\\.\\d+)\\s(kmpl|km\\/kg)', r'\\1', str(x)))\n",
        "df_train['Mileage'] = df_train['Mileage'].astype(float)\n",
        "df_train['Mileage'].mode()"
      ],
      "execution_count": 57,
      "outputs": [
        {
          "output_type": "execute_result",
          "data": {
            "text/plain": [
              "0    17.0\n",
              "dtype: float64"
            ]
          },
          "metadata": {
            "tags": []
          },
          "execution_count": 57
        }
      ]
    },
    {
      "cell_type": "markdown",
      "metadata": {
        "id": "ow122c-fHdaY"
      },
      "source": [
        "Menggaanti nilai null value dengan modus yang didapatkan."
      ]
    },
    {
      "cell_type": "code",
      "metadata": {
        "colab": {
          "base_uri": "https://localhost:8080/"
        },
        "id": "lP68QOVFQIUu",
        "outputId": "f8cc3eb9-fbf1-4087-be3f-54abcfb41805"
      },
      "source": [
        "df_train['Mileage'].fillna(value = 17.0, inplace = True)\n",
        "df_train.isna().sum()"
      ],
      "execution_count": 58,
      "outputs": [
        {
          "output_type": "execute_result",
          "data": {
            "text/plain": [
              "id                      0\n",
              "Name                    0\n",
              "Location                0\n",
              "Year                    0\n",
              "Kilometers_Driven       0\n",
              "Fuel_Type               0\n",
              "Transmission            0\n",
              "Owner_Type              0\n",
              "Mileage                 0\n",
              "Engine                 36\n",
              "Power                  36\n",
              "Seats                   0\n",
              "New_Price            5195\n",
              "Price                   0\n",
              "dtype: int64"
            ]
          },
          "metadata": {
            "tags": []
          },
          "execution_count": 58
        }
      ]
    },
    {
      "cell_type": "markdown",
      "metadata": {
        "id": "-bTLsVsUHkUp"
      },
      "source": [
        "Menampilkan kolom dataset berdasar Engine dan id yang uniq."
      ]
    },
    {
      "cell_type": "code",
      "metadata": {
        "colab": {
          "base_uri": "https://localhost:8080/"
        },
        "id": "wIn5W2MxQna1",
        "outputId": "c58d649e-193a-414e-93a5-da9f7f4d9499"
      },
      "source": [
        "df_train.groupby('Engine')['id'].nunique()"
      ],
      "execution_count": 59,
      "outputs": [
        {
          "output_type": "execute_result",
          "data": {
            "text/plain": [
              "Engine\n",
              "1047 CC      4\n",
              "1061 CC     30\n",
              "1086 CC    108\n",
              "1120 CC     54\n",
              "1150 CC      7\n",
              "          ... \n",
              "970 CC       1\n",
              "993 CC      14\n",
              "995 CC      10\n",
              "998 CC     259\n",
              "999 CC      29\n",
              "Name: id, Length: 146, dtype: int64"
            ]
          },
          "metadata": {
            "tags": []
          },
          "execution_count": 59
        }
      ]
    },
    {
      "cell_type": "markdown",
      "metadata": {
        "id": "-FUqmpSvHrrp"
      },
      "source": [
        "Menghilangkan atribut yang tidak diperlukan dari suatu value, kemudian mengganti type datanya menjadi float, dan menampilkan modus dari kolom Engine."
      ]
    },
    {
      "cell_type": "code",
      "metadata": {
        "colab": {
          "base_uri": "https://localhost:8080/"
        },
        "id": "HYVP-fHdQsrF",
        "outputId": "fd08429c-4048-4541-d7b8-1f7bcb12213c"
      },
      "source": [
        "df_train['Engine'] = df_train['Engine'].apply(lambda x: re.sub(r'(\\d+)\\s(CC)', r'\\1', str(x)))\n",
        "df_train['Engine'] = df_train['Engine'].astype(float)\n",
        "df_train['Engine'].mode()"
      ],
      "execution_count": 60,
      "outputs": [
        {
          "output_type": "execute_result",
          "data": {
            "text/plain": [
              "0    1197.0\n",
              "dtype: float64"
            ]
          },
          "metadata": {
            "tags": []
          },
          "execution_count": 60
        }
      ]
    },
    {
      "cell_type": "markdown",
      "metadata": {
        "id": "5NAwFzJ0H5tY"
      },
      "source": [
        "Mengganti null value dengan nilai modus."
      ]
    },
    {
      "cell_type": "code",
      "metadata": {
        "colab": {
          "base_uri": "https://localhost:8080/"
        },
        "id": "4a5qz5GBQ4Hj",
        "outputId": "aaef96a2-0b9b-4071-97b6-d0eb7d244961"
      },
      "source": [
        "df_train['Engine'].fillna(value = 1197.0, inplace = True)\n",
        "df_train.isna().sum()"
      ],
      "execution_count": 61,
      "outputs": [
        {
          "output_type": "execute_result",
          "data": {
            "text/plain": [
              "id                      0\n",
              "Name                    0\n",
              "Location                0\n",
              "Year                    0\n",
              "Kilometers_Driven       0\n",
              "Fuel_Type               0\n",
              "Transmission            0\n",
              "Owner_Type              0\n",
              "Mileage                 0\n",
              "Engine                  0\n",
              "Power                  36\n",
              "Seats                   0\n",
              "New_Price            5195\n",
              "Price                   0\n",
              "dtype: int64"
            ]
          },
          "metadata": {
            "tags": []
          },
          "execution_count": 61
        }
      ]
    },
    {
      "cell_type": "markdown",
      "metadata": {
        "id": "X0eB5lU_H9w6"
      },
      "source": [
        "Menghilangan atribut yang tidak perlu dari kolom Power, kemudian menampilkan berapa jumlah null value."
      ]
    },
    {
      "cell_type": "code",
      "metadata": {
        "colab": {
          "base_uri": "https://localhost:8080/"
        },
        "id": "zERfrVOPQ7tV",
        "outputId": "4662529b-a302-4384-e594-34886359c29b"
      },
      "source": [
        "df_train['Power'] = df_train['Power'].str.split(' ').str[0]\n",
        "# including nan rows there is data in this column of 'null' value\n",
        "df_train.Power[df_train.Power == 'null'] = np.NaN\n",
        "df_train['Power'].isnull().sum()"
      ],
      "execution_count": 62,
      "outputs": [
        {
          "output_type": "execute_result",
          "data": {
            "text/plain": [
              "143"
            ]
          },
          "metadata": {
            "tags": []
          },
          "execution_count": 62
        }
      ]
    },
    {
      "cell_type": "markdown",
      "metadata": {
        "id": "6OTGP5V8IKIp"
      },
      "source": [
        "Mengubah type data dari Power menjasi float, kemudian menampilkan nilai modusnya."
      ]
    },
    {
      "cell_type": "code",
      "metadata": {
        "colab": {
          "base_uri": "https://localhost:8080/"
        },
        "id": "3xN9sj-1RLNr",
        "outputId": "c0cbd7b0-0903-4912-96cb-a71c87a9f321"
      },
      "source": [
        "df_train['Power'] = df_train['Power'].astype(float)\n",
        "df_train['Power'].mode()"
      ],
      "execution_count": 63,
      "outputs": [
        {
          "output_type": "execute_result",
          "data": {
            "text/plain": [
              "0    74.0\n",
              "dtype: float64"
            ]
          },
          "metadata": {
            "tags": []
          },
          "execution_count": 63
        }
      ]
    },
    {
      "cell_type": "markdown",
      "metadata": {
        "id": "4AL5QJmAISyQ"
      },
      "source": [
        "Mengubah null value dari kolom Power menjadi nilai modus yang telah didapatkan."
      ]
    },
    {
      "cell_type": "code",
      "metadata": {
        "colab": {
          "base_uri": "https://localhost:8080/"
        },
        "id": "rrDy2tnKRS97",
        "outputId": "49244950-c262-4b7a-c328-5db26515d90b"
      },
      "source": [
        "df_train['Power'].fillna(value = 74, inplace = True)\n",
        "df_train.isna().sum()"
      ],
      "execution_count": 64,
      "outputs": [
        {
          "output_type": "execute_result",
          "data": {
            "text/plain": [
              "id                      0\n",
              "Name                    0\n",
              "Location                0\n",
              "Year                    0\n",
              "Kilometers_Driven       0\n",
              "Fuel_Type               0\n",
              "Transmission            0\n",
              "Owner_Type              0\n",
              "Mileage                 0\n",
              "Engine                  0\n",
              "Power                   0\n",
              "Seats                   0\n",
              "New_Price            5195\n",
              "Price                   0\n",
              "dtype: int64"
            ]
          },
          "metadata": {
            "tags": []
          },
          "execution_count": 64
        }
      ]
    },
    {
      "cell_type": "markdown",
      "metadata": {
        "id": "wkSa2wrgIbAU"
      },
      "source": [
        "Membersihkan atribut tidak dipakai dari value kolom Name, kemudian menampilkan isi berdasar Name dan id yang uniq."
      ]
    },
    {
      "cell_type": "code",
      "metadata": {
        "colab": {
          "base_uri": "https://localhost:8080/"
        },
        "id": "HVGBI54PRYQZ",
        "outputId": "f3af1652-9f84-4689-ed47-13bbc19e450e"
      },
      "source": [
        "df_train['Name'] = df_train['Name'].str.split(' ').str[0]\n",
        "df_train.groupby('Name')['id'].nunique()"
      ],
      "execution_count": 65,
      "outputs": [
        {
          "output_type": "execute_result",
          "data": {
            "text/plain": [
              "Name\n",
              "Ambassador          1\n",
              "Audi              236\n",
              "BMW               267\n",
              "Bentley             1\n",
              "Chevrolet         121\n",
              "Datsun             13\n",
              "Fiat               28\n",
              "Force               3\n",
              "Ford              300\n",
              "Honda             608\n",
              "Hyundai          1107\n",
              "ISUZU               2\n",
              "Isuzu               1\n",
              "Jaguar             40\n",
              "Jeep               15\n",
              "Lamborghini         1\n",
              "Land               60\n",
              "Mahindra          272\n",
              "Maruti           1211\n",
              "Mercedes-Benz     318\n",
              "Mini               26\n",
              "Mitsubishi         27\n",
              "Nissan             91\n",
              "Porsche            18\n",
              "Renault           145\n",
              "Skoda             173\n",
              "Smart               1\n",
              "Tata              186\n",
              "Toyota            411\n",
              "Volkswagen        315\n",
              "Volvo              21\n",
              "Name: id, dtype: int64"
            ]
          },
          "metadata": {
            "tags": []
          },
          "execution_count": 65
        }
      ]
    },
    {
      "cell_type": "markdown",
      "metadata": {
        "id": "I7SFCRb_Im3P"
      },
      "source": [
        "Mengubah nama isuzu menjadi ISUZU"
      ]
    },
    {
      "cell_type": "code",
      "metadata": {
        "id": "FkaUhap9Rm37"
      },
      "source": [
        "df_train.Name[df_train.Name == 'Isuzu'] = 'ISUZU'"
      ],
      "execution_count": 66,
      "outputs": []
    },
    {
      "cell_type": "markdown",
      "metadata": {
        "id": "nRYXkebSItId"
      },
      "source": [
        "Menghapus kolom New_Price."
      ]
    },
    {
      "cell_type": "code",
      "metadata": {
        "id": "n4VUGoXARsaw"
      },
      "source": [
        "del df_train['New_Price']"
      ],
      "execution_count": 67,
      "outputs": []
    },
    {
      "cell_type": "markdown",
      "metadata": {
        "id": "Jd7m8S5UIx8m"
      },
      "source": [
        "Melakukan copy dataset df_train ke dataset."
      ]
    },
    {
      "cell_type": "code",
      "metadata": {
        "id": "C8ppq-TuR6Av"
      },
      "source": [
        "dataset = df_train.copy()"
      ],
      "execution_count": 68,
      "outputs": []
    },
    {
      "cell_type": "markdown",
      "metadata": {
        "id": "Jv_kaMa1I5Ue"
      },
      "source": [
        "Menghapus kolom id dari df_train."
      ]
    },
    {
      "cell_type": "code",
      "metadata": {
        "id": "SubdrvnbR7w-"
      },
      "source": [
        "del df_train['id']"
      ],
      "execution_count": 69,
      "outputs": []
    },
    {
      "cell_type": "markdown",
      "metadata": {
        "id": "oPvXNsHXI_0P"
      },
      "source": [
        "Menampilkan type data dari masing-masing kolom df_train."
      ]
    },
    {
      "cell_type": "code",
      "metadata": {
        "colab": {
          "base_uri": "https://localhost:8080/"
        },
        "id": "GoPUZgaZR9hs",
        "outputId": "bdcf5787-a1f0-4501-9841-08c23695c2e0"
      },
      "source": [
        "df_train.dtypes"
      ],
      "execution_count": 70,
      "outputs": [
        {
          "output_type": "execute_result",
          "data": {
            "text/plain": [
              "Name                  object\n",
              "Location              object\n",
              "Year                   int64\n",
              "Kilometers_Driven      int64\n",
              "Fuel_Type             object\n",
              "Transmission          object\n",
              "Owner_Type            object\n",
              "Mileage              float64\n",
              "Engine               float64\n",
              "Power                float64\n",
              "Seats                float64\n",
              "Price                float64\n",
              "dtype: object"
            ]
          },
          "metadata": {
            "tags": []
          },
          "execution_count": 70
        }
      ]
    },
    {
      "cell_type": "markdown",
      "metadata": {
        "id": "n5ZbTkrwJIb7"
      },
      "source": [
        "Mengubah tipe data dari Year dan Kilometers_Driven menjadi float."
      ]
    },
    {
      "cell_type": "code",
      "metadata": {
        "id": "GA5v9UINSCX-"
      },
      "source": [
        "df_train['Year'] = df_train['Year'].astype(float)\n",
        "df_train['Kilometers_Driven'] = df_train['Kilometers_Driven'].astype(float)"
      ],
      "execution_count": 71,
      "outputs": []
    },
    {
      "cell_type": "markdown",
      "metadata": {
        "id": "lfYcq6asJS9X"
      },
      "source": [
        "Menyimpan nilai Price ke kolom baru bernama Price_log, kemudian menghapus kolom Price."
      ]
    },
    {
      "cell_type": "code",
      "metadata": {
        "id": "djDmhy6JSFaO"
      },
      "source": [
        "df_train['Price_log'] = np.log1p(df_train['Price'].values)\n",
        "del df_train['Price']"
      ],
      "execution_count": 72,
      "outputs": []
    },
    {
      "cell_type": "markdown",
      "metadata": {
        "id": "Dt07t4CASXcu"
      },
      "source": [
        "### Visualisasi Dataset"
      ]
    },
    {
      "cell_type": "code",
      "metadata": {
        "colab": {
          "base_uri": "https://localhost:8080/",
          "height": 545
        },
        "id": "bzjWHluJSdYE",
        "outputId": "2fbe0ea7-9126-47f6-901e-a272f04a39e6"
      },
      "source": [
        "plt.figure(figsize = (10,8))\n",
        "bar1 = sns.countplot(dataset['Year'])\n",
        "bar1.set_xticklabels(bar1.get_xticklabels(), rotation = 90, ha = 'right')\n",
        "plt.title('Count year wise', size = 24)\n",
        "plt.xlabel('Year', size = 18)\n",
        "plt.ylabel('Count', size = 18)\n",
        "plt.show()"
      ],
      "execution_count": 73,
      "outputs": [
        {
          "output_type": "display_data",
          "data": {
            "image/png": "[encoded data removed]",
            "text/plain": [
              "<Figure size 720x576 with 1 Axes>"
            ]
          },
          "metadata": {
            "tags": [],
            "needs_background": "light"
          }
        }
      ]
    },
    {
      "cell_type": "code",
      "metadata": {
        "colab": {
          "base_uri": "https://localhost:8080/",
          "height": 369
        },
        "id": "--iFxnidSol0",
        "outputId": "85487d2a-9f70-4e7c-dd58-3a8b9887e72f"
      },
      "source": [
        "plt.figure(figsize = (5,5))\n",
        "sns.countplot(dataset['Fuel_Type'])\n",
        "plt.title('Types of Fuel and count', size = 24)\n",
        "plt.tight_layout()\n",
        "plt.show()"
      ],
      "execution_count": 74,
      "outputs": [
        {
          "output_type": "display_data",
          "data": {
            "image/png": "[encoded data removed]",
            "text/plain": [
              "<Figure size 360x360 with 1 Axes>"
            ]
          },
          "metadata": {
            "tags": [],
            "needs_background": "light"
          }
        }
      ]
    },
    {
      "cell_type": "code",
      "metadata": {
        "colab": {
          "base_uri": "https://localhost:8080/",
          "height": 369
        },
        "id": "mJG3nbwuT0Ue",
        "outputId": "e360d352-ecec-46a6-f057-c0c6a5c343f9"
      },
      "source": [
        "plt.figure(figsize = (5,5))\n",
        "sns.countplot(dataset['Transmission'])\n",
        "plt.title('Types of transmission', size = 24)\n",
        "plt.tight_layout()\n",
        "plt.show()"
      ],
      "execution_count": 75,
      "outputs": [
        {
          "output_type": "display_data",
          "data": {
            "image/png": "[encoded data removed]",
            "text/plain": [
              "<Figure size 360x360 with 1 Axes>"
            ]
          },
          "metadata": {
            "tags": [],
            "needs_background": "light"
          }
        }
      ]
    },
    {
      "cell_type": "code",
      "metadata": {
        "colab": {
          "base_uri": "https://localhost:8080/",
          "height": 513
        },
        "id": "DmYfLnejT27U",
        "outputId": "61775022-b1a4-496f-a2c6-e34d57387beb"
      },
      "source": [
        "plt.figure(figsize = (13,7))\n",
        "sns.countplot(dataset['Location'])\n",
        "plt.title('Location', size = 24)\n",
        "plt.tight_layout()\n",
        "plt.show()"
      ],
      "execution_count": 76,
      "outputs": [
        {
          "output_type": "display_data",
          "data": {
            "image/png": "[encoded data removed]",
            "text/plain": [
              "<Figure size 936x504 with 1 Axes>"
            ]
          },
          "metadata": {
            "tags": [],
            "needs_background": "light"
          }
        }
      ]
    },
    {
      "cell_type": "markdown",
      "metadata": {
        "id": "M5kS6yUHEXot"
      },
      "source": [
        "# Pemodelan Data"
      ]
    },
    {
      "cell_type": "markdown",
      "metadata": {
        "id": "olvSz-b-Gy2i"
      },
      "source": [
        "### Model Linear Regression"
      ]
    },
    {
      "cell_type": "code",
      "metadata": {
        "id": "ANjLEiiMEeML"
      },
      "source": [
        "df_train = pd.get_dummies(df_train, drop_first = True)"
      ],
      "execution_count": 77,
      "outputs": []
    },
    {
      "cell_type": "code",
      "metadata": {
        "id": "ft09-h1WEl3g"
      },
      "source": [
        "X = df_train.drop(columns = ['Price_log'], axis = 1)\r\n",
        "y = df_train.iloc[:, 6].values"
      ],
      "execution_count": 78,
      "outputs": []
    },
    {
      "cell_type": "code",
      "metadata": {
        "id": "d1iw0J6fErTd"
      },
      "source": [
        "X_train, X_test, y_train, y_test = train_test_split(X, y, test_size = 0.2, random_state = 0)"
      ],
      "execution_count": 79,
      "outputs": []
    },
    {
      "cell_type": "code",
      "metadata": {
        "colab": {
          "base_uri": "https://localhost:8080/"
        },
        "id": "9ccekGybEtvN",
        "outputId": "6eebfeb8-9744-4cf9-9e07-0c0465668ad8"
      },
      "source": [
        "regressor_1 = LinearRegression()\r\n",
        "regressor_1.fit(X_train, y_train)"
      ],
      "execution_count": 80,
      "outputs": [
        {
          "output_type": "execute_result",
          "data": {
            "text/plain": [
              "LinearRegression(copy_X=True, fit_intercept=True, n_jobs=None, normalize=False)"
            ]
          },
          "metadata": {
            "tags": []
          },
          "execution_count": 80
        }
      ]
    },
    {
      "cell_type": "code",
      "metadata": {
        "id": "isCSRYGfEwCO"
      },
      "source": [
        "y_pred_1 = regressor_1.predict(X_test)"
      ],
      "execution_count": 81,
      "outputs": []
    },
    {
      "cell_type": "code",
      "metadata": {
        "colab": {
          "base_uri": "https://localhost:8080/"
        },
        "id": "FJBx6ArBEybc",
        "outputId": "f680515b-e0ab-4a61-c5ec-d012984508d6"
      },
      "source": [
        "regressor_1.score(X_test,y_test)"
      ],
      "execution_count": 82,
      "outputs": [
        {
          "output_type": "execute_result",
          "data": {
            "text/plain": [
              "0.9224124177741444"
            ]
          },
          "metadata": {
            "tags": []
          },
          "execution_count": 82
        }
      ]
    },
    {
      "cell_type": "markdown",
      "metadata": {
        "id": "FpMh9gTKG3ra"
      },
      "source": [
        "### Model Random Forest Tree Regression"
      ]
    },
    {
      "cell_type": "code",
      "metadata": {
        "colab": {
          "base_uri": "https://localhost:8080/"
        },
        "id": "_9ji43diE1y0",
        "outputId": "91df8bbc-6d4d-4f4a-a1a5-ac46c6e445d3"
      },
      "source": [
        "regressor_2 = RandomForestRegressor(random_state = 0)\r\n",
        "regressor_2.fit(X_train, y_train)"
      ],
      "execution_count": 83,
      "outputs": [
        {
          "output_type": "execute_result",
          "data": {
            "text/plain": [
              "RandomForestRegressor(bootstrap=True, ccp_alpha=0.0, criterion='mse',\n",
              "                      max_depth=None, max_features='auto', max_leaf_nodes=None,\n",
              "                      max_samples=None, min_impurity_decrease=0.0,\n",
              "                      min_impurity_split=None, min_samples_leaf=1,\n",
              "                      min_samples_split=2, min_weight_fraction_leaf=0.0,\n",
              "                      n_estimators=100, n_jobs=None, oob_score=False,\n",
              "                      random_state=0, verbose=0, warm_start=False)"
            ]
          },
          "metadata": {
            "tags": []
          },
          "execution_count": 83
        }
      ]
    },
    {
      "cell_type": "code",
      "metadata": {
        "id": "VaUEdSJ_E5Fl"
      },
      "source": [
        "y_pred_2 = regressor_2.predict(X_test)"
      ],
      "execution_count": 84,
      "outputs": []
    },
    {
      "cell_type": "code",
      "metadata": {
        "colab": {
          "base_uri": "https://localhost:8080/"
        },
        "id": "fpuPrAoCE66M",
        "outputId": "97fd1683-223f-4f0f-8615-6364c72679fc"
      },
      "source": [
        "regressor_2.score(X_test,y_test)"
      ],
      "execution_count": 85,
      "outputs": [
        {
          "output_type": "execute_result",
          "data": {
            "text/plain": [
              "0.9433713928852715"
            ]
          },
          "metadata": {
            "tags": []
          },
          "execution_count": 85
        }
      ]
    },
    {
      "cell_type": "markdown",
      "metadata": {
        "id": "N6c_J7BKE-Yi"
      },
      "source": [
        "### Evalusai"
      ]
    },
    {
      "cell_type": "markdown",
      "metadata": {
        "id": "j7O-7GWcFCQz"
      },
      "source": [
        "Setelah dilakukan uji pada model, ditemukan bahwa model Random Forest Tree Regression lebih baik dibandingkan dengan Linear Regression"
      ]
    }
  ]
}